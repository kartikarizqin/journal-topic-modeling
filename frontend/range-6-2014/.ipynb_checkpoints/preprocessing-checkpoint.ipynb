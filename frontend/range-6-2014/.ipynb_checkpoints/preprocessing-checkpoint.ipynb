{
 "cells": [
  {
   "cell_type": "code",
   "execution_count": 1,
   "metadata": {},
   "outputs": [],
   "source": [
    "import re, string, unicodedata\n",
    "import nltk\n",
    "from nltk import word_tokenize, sent_tokenize\n",
    "from nltk.corpus import stopwords"
   ]
  },
  {
   "cell_type": "code",
   "execution_count": 2,
   "metadata": {},
   "outputs": [],
   "source": [
    "#preprocessing\n",
    "\n",
    "def cleaning(str):\n",
    "    #remove digit or numbers\n",
    "#     str = re.sub(r\"\\b\\d+\\b\", \" \", str)\n",
    "    #remove digit from string\n",
    "#     str = re.sub(\"\\S*\\d\\S*\", \"\", str).strip()\n",
    "#     remove digit\n",
    "#     str = re.sub(r'[^a-z ]*([.0-9])*\\d', '', str)\n",
    "    #remove punctuations\n",
    "    str = re.sub(r'[^\\w]|_',' ',str)\n",
    "#     remove numbers except inside words\n",
    "#     str = re.sub(\" \\d+\", \" \", str)\n",
    "    str = re.sub(\"^\\d+\\s|\\s\\d+\\s|\\s\\d+$\", \" \", str)\n",
    "    #to lowercase\n",
    "    str = str.lower()\n",
    "    #remove word with less than 2 alphabets\n",
    "#     str = re.sub(r'\\W*\\b\\w{1,2}\\b', ' ', str)\n",
    "    #Remove additional white spaces\n",
    "#     str = re.sub('[\\s]+', ' ', str)\n",
    "    return str\n",
    "\n",
    "#remove sentence which contains only 3 word\\n\",\n",
    "def removeSentence(str):\n",
    "    word = str.split()\n",
    "    wordCount = len(word)\n",
    "    if(wordCount<=3):\n",
    "        str = ''\n",
    "    return str\n",
    "\n",
    "def removeStopword(str):\n",
    "    stop_words = set(stopwords.words('stopwords.txt'))\n",
    "    word_tokens = word_tokenize(str)\n",
    "    filtered_sentence = [w for w in word_tokens if not w in stop_words]\n",
    "    return ' '.join(filtered_sentence)\n",
    "        \n",
    "def preprocessing(str):\n",
    "    str = cleaning(str)\n",
    "    str = removeStopword(str)\n",
    "    str = removeSentence(str)\n",
    "    return str\n",
    "\n",
    "# def removeDots(str):\n",
    "#     for line in str():\n",
    "#         if not line.startswith('.')\n",
    "#     return str"
   ]
  },
  {
   "cell_type": "code",
   "execution_count": 3,
   "metadata": {},
   "outputs": [
    {
     "name": "stdout",
     "output_type": "stream",
     "text": [
      "dia aku makan c4 c454 3d l2tp test aja dulu pokoknya\n",
      "kota ok iya indonesia china malaysia hehe\n",
      "ini sebuah test regex\n",
      "\n",
      "jadi gini loh maksudnya\n"
     ]
    }
   ],
   "source": [
    "#test the code\n",
    "fixed = [\"63333. dia 55553. aku.makan c4.5 ! ? . , c454 3d l2tp test aja dulu pokoknya\"]\n",
    "sentences = [\"257182772271 Kota ok iya di berdasarkan Indonesia 23 China dan Malaysia hehe berbasis.,/-!:;()\"]\n",
    "test0 = [\"ini sebuah test regex\"]\n",
    "test = [\"aku mau makan\"]\n",
    "test2 = [\"jadi gini loh maksudnya\"]\n",
    "\n",
    "for st in fixed:\n",
    "    r = preprocessing(st)\n",
    "    print(r)\n",
    "\n",
    "for st in sentences:\n",
    "    r = preprocessing(st)\n",
    "    print(r)\n",
    "\n",
    "for st in test0:\n",
    "    r = preprocessing(st)\n",
    "    print(r)\n",
    "    \n",
    "for st in test:\n",
    "    r = preprocessing(st)\n",
    "    print(r)\n",
    "    \n",
    "for st in test2:\n",
    "    r = preprocessing(st)\n",
    "    print(r)"
   ]
  },
  {
   "cell_type": "code",
   "execution_count": null,
   "metadata": {},
   "outputs": [],
   "source": [
    "#do preprocessing\n",
    "import pandas as pd\n",
    "import xlsxwriter\n",
    "\n",
    "fo = pd.read_excel('range-6.xls') #read excel file\n",
    "txt = fo['Title']\n",
    "# workbook = xlsxwriter.Workbook('../data/2010/cleaned.xls')\n",
    "workbook = xlsxwriter.Workbook('cleaned-range6.xls')\n",
    "worksheet = workbook.add_worksheet()\n",
    "\n",
    "row = 0\n",
    "col = 0\n",
    "\n",
    "rowHeaders = ['text']\n",
    "worksheet.write_row(row, col,  tuple(rowHeaders))\n",
    "        \n",
    "for line in txt:\n",
    "    new_txt = preprocessing(line)\n",
    "    rowValues = [new_txt]\n",
    "    row += 1\n",
    "    worksheet.write_row(row, col, tuple(rowValues))\n",
    "    \n",
    "workbook.close()"
   ]
  },
  {
   "cell_type": "code",
   "execution_count": null,
   "metadata": {},
   "outputs": [],
   "source": []
  }
 ],
 "metadata": {
  "kernelspec": {
   "display_name": "Python 3",
   "language": "python",
   "name": "python3"
  },
  "language_info": {
   "codemirror_mode": {
    "name": "ipython",
    "version": 3
   },
   "file_extension": ".py",
   "mimetype": "text/x-python",
   "name": "python",
   "nbconvert_exporter": "python",
   "pygments_lexer": "ipython3",
   "version": "3.6.5"
  }
 },
 "nbformat": 4,
 "nbformat_minor": 2
}
